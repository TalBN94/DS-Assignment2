{
  "nbformat": 4,
  "nbformat_minor": 0,
  "metadata": {
    "colab": {
      "name": "GMDL-HW5.ipynb",
      "provenance": [],
      "collapsed_sections": [
        "iVYN9zyB9soj",
        "-ZRQ_jE9Xd2T",
        "7jaJH2RU273J",
        "KJTcfB3loeMZ",
        "L2Ii4jXSqD8l",
        "k3L-cCOKruAJ"
      ]
    },
    "kernelspec": {
      "name": "python3",
      "display_name": "Python 3"
    },
    "language_info": {
      "name": "python"
    },
    "accelerator": "GPU"
  },
  "cells": [
    {
      "cell_type": "markdown",
      "source": [
        "Imports"
      ],
      "metadata": {
        "id": "qlPDkSnvyUZr"
      }
    },
    {
      "cell_type": "code",
      "source": [
        "import torch\n",
        "import torch.nn as nn\n",
        "import torch.optim as optim\n",
        "import torch.nn.functional as F\n",
        "from torchvision import datasets, transforms, models\n",
        "from torch.utils.data import random_split, DataLoader\n",
        "import matplotlib.pyplot as plt\n",
        "from PIL import Image\n",
        "import numpy as np\n",
        "import copy\n",
        "from google.colab import drive\n",
        "\n",
        "drive.mount('/content/drive/')\n",
        "models_base_path = 'drive/MyDrive/GMDL_hw5_models/'\n",
        "plots_base_path = 'drive/MyDrive/GMDL_hw5_plots/'"
      ],
      "metadata": {
        "colab": {
          "base_uri": "https://localhost:8080/"
        },
        "id": "6GV0AxhnyYuJ",
        "outputId": "00b5585f-2ade-430e-922c-171e89ab0bc7"
      },
      "execution_count": null,
      "outputs": [
        {
          "output_type": "stream",
          "name": "stdout",
          "text": [
            "Drive already mounted at /content/drive/; to attempt to forcibly remount, call drive.mount(\"/content/drive/\", force_remount=True).\n"
          ]
        }
      ]
    },
    {
      "cell_type": "markdown",
      "source": [
        "# **Computer Exercise 1 - Load data using PyTorch**"
      ],
      "metadata": {
        "id": "ThOZs_PTxkAB"
      }
    },
    {
      "cell_type": "code",
      "execution_count": null,
      "metadata": {
        "id": "Xpbi357vwnba",
        "colab": {
          "base_uri": "https://localhost:8080/"
        },
        "outputId": "44380c84-c094-41b4-bf65-f6030fa9c0e3"
      },
      "outputs": [
        {
          "output_type": "stream",
          "name": "stdout",
          "text": [
            "Using downloaded and verified file: ./data/train_32x32.mat\n",
            "Using downloaded and verified file: ./data/test_32x32.mat\n"
          ]
        }
      ],
      "source": [
        "transform = transforms.Compose([transforms.ToTensor()])\n",
        "batch_size = 64\n",
        "\n",
        "trainsetfull = datasets.SVHN(root='./data', split='train', \n",
        "                             download=True, transform=transform)\n",
        "train_size = int(0.8 * len(trainsetfull))\n",
        "validation_size = len(trainsetfull) - train_size\n",
        "testset = datasets.SVHN(root='./data', split='test', \n",
        "                        download=True, transform=transform)\n",
        "trainset, validationset = random_split(trainsetfull, \n",
        "                                       [train_size, validation_size])\n",
        "\n",
        "trainloader = DataLoader(trainset, batch_size=batch_size, \n",
        "                         shuffle=True, num_workers=2)\n",
        "\n",
        "validationloader = DataLoader(validationset, batch_size=batch_size, \n",
        "                              shuffle=False, num_workers=2)\n",
        "\n",
        "testloader = DataLoader(testset, batch_size=batch_size, \n",
        "                         shuffle=False, num_workers=2)\n",
        "\n",
        "dataloaders = dict()\n",
        "dataloaders['train'] = trainloader\n",
        "dataloaders['val'] = validationloader\n",
        "dataset_sizes = dict()\n",
        "dataset_sizes['train'] = train_size\n",
        "dataset_sizes['val'] = validation_size"
      ]
    },
    {
      "cell_type": "markdown",
      "source": [
        "Show 5 random images from the train set"
      ],
      "metadata": {
        "id": "fHCK6x6r7_rI"
      }
    },
    {
      "cell_type": "code",
      "source": [
        "dataiter = iter(trainloader)\n",
        "images, labels = dataiter.next()\n",
        "figure = plt.figure(figsize=(12, 12))\n",
        "for i in range(1, 6):\n",
        "  plt.subplot(1, 5, i)\n",
        "  plt.axis('off')\n",
        "  plt.imshow(transforms.ToPILImage()(images[i]))"
      ],
      "metadata": {
        "id": "6YHJIEoR7_DD",
        "colab": {
          "base_uri": "https://localhost:8080/",
          "height": 146
        },
        "outputId": "85977846-2131-4d1c-bc56-3b1b02196d60"
      },
      "execution_count": null,
      "outputs": [
        {
          "output_type": "display_data",
          "data": {
            "text/plain": [
              "<Figure size 864x864 with 5 Axes>"
            ],
            "image/png": "[encoded data removed]"
          },
          "metadata": {
            "needs_background": "light"
          }
        }
      ]
    },
    {
      "cell_type": "markdown",
      "source": [
        "# **Computer Exercise 2**"
      ],
      "metadata": {
        "id": "iVYN9zyB9soj"
      }
    },
    {
      "cell_type": "markdown",
      "source": [
        "Fully-connected neural network class"
      ],
      "metadata": {
        "id": "Qn-jnnvR9xjg"
      }
    },
    {
      "cell_type": "code",
      "source": [
        "input_size = 32 * 32 * 3\n",
        "output_size = 10\n",
        "\n",
        "class FC_Net(nn.Module):\n",
        "  def __init__(self, hidden1_size=128, hidden2_size=64):\n",
        "    super(FC_Net, self).__init__()\n",
        "    self.hidden1_size = hidden1_size\n",
        "    self.hidden2_size = hidden2_size\n",
        "    self.input = nn.Linear(input_size, hidden1_size)\n",
        "    self.hidden1 = nn.Linear(hidden1_size, hidden2_size)\n",
        "    self.hidden2 = nn.Linear(hidden2_size, output_size)\n",
        "\n",
        "  # x represents our data\n",
        "  def forward(self, x):\n",
        "    x = self.input(x)\n",
        "    x = F.relu(x)\n",
        "    x = self.hidden1(x)\n",
        "    x = F.relu(x)\n",
        "    x = self.hidden2(x)\n",
        "    return x"
      ],
      "metadata": {
        "id": "armUnifJ910J"
      },
      "execution_count": null,
      "outputs": []
    },
    {
      "cell_type": "markdown",
      "source": [
        "Convolutional neural network class"
      ],
      "metadata": {
        "id": "XlHVyZsKBr3R"
      }
    },
    {
      "cell_type": "code",
      "source": [
        "input_channels = 3\n",
        "hidden_channels = [10, 20]\n",
        "cnn_fc_size = 64\n",
        "\n",
        "class CNN(nn.Module):\n",
        "  def __init__(self, kernel_size=3):\n",
        "    super(CNN, self).__init__()\n",
        "\n",
        "    # Calculate convolutions output size\n",
        "    conv1_output_size = ((32 - kernel_size + 3) // 2)\n",
        "    conv2_output_size = ((conv1_output_size - kernel_size + 3) // 2)\n",
        "    conv_output_size = conv2_output_size ** 2\n",
        "\n",
        "    self.kernel_size = kernel_size\n",
        "    self.conv1 = nn.Conv2d(input_channels, hidden_channels[0], \n",
        "                           kernel_size, 1, 1)\n",
        "    self.conv2 = nn.Conv2d(hidden_channels[0], hidden_channels[1], \n",
        "                           kernel_size, 1, 1)\n",
        "    self.fc1 = nn.Linear(conv_output_size * hidden_channels[1], cnn_fc_size)\n",
        "    self.fc2 = nn.Linear(cnn_fc_size, output_size)\n",
        "\n",
        "  # x represents our data\n",
        "  def forward(self, x):\n",
        "    x = F.max_pool2d(F.relu(self.conv1(x)), kernel_size=2, stride=2, padding=0)\n",
        "    x = F.max_pool2d(F.relu(self.conv2(x)), kernel_size=2, stride=2, padding=0)\n",
        "    x = torch.flatten(x, 1)\n",
        "    x = F.relu(self.fc1(x))\n",
        "    x = self.fc2(x)\n",
        "    return x"
      ],
      "metadata": {
        "id": "L9UFOJrJBqlc"
      },
      "execution_count": null,
      "outputs": []
    },
    {
      "cell_type": "markdown",
      "source": [
        "# **Computer Exercise 3 - Training**"
      ],
      "metadata": {
        "id": "-Wrd-k3LI4Ig"
      }
    },
    {
      "cell_type": "code",
      "source": [
        "def plot_stats(values, num_epochs, filename, params,is_loss=True, is_fc=True, \n",
        "               is_ft=False):\n",
        "  title = f'FC network {params[0]}, {params[1]}\\n' if is_fc \\\n",
        "    else f'CNN with kernel size {params[0]}\\n' if not is_ft \\\n",
        "    else f'ResNet-18 finetuned with lr={params[0]}\\n'\n",
        "  title += 'Loss per Epoch' if is_loss else 'Accuracy per Epoch'\n",
        "  plt.plot(range(num_epochs), values['train'], label='Train')\n",
        "  plt.plot(range(num_epochs), values['val'], label='Validation')\n",
        "  plt.title(title)\n",
        "  plt.legend()\n",
        "  plt.xlabel('Epoch')\n",
        "  plt.ylabel('Loss' if is_loss else 'Accuracy')\n",
        "  plt.savefig(f'{plots_base_path}{filename}.png')\n",
        "  plt.show()"
      ],
      "metadata": {
        "id": "ZCw4XqsIbPuE"
      },
      "execution_count": null,
      "outputs": []
    },
    {
      "cell_type": "code",
      "source": [
        "device = torch.device(\"cuda:0\" if torch.cuda.is_available() else \"cpu\")\n",
        "\n",
        "def train_model(model, criterion, optimizer, dataloaders, model_name,\n",
        "                num_epochs=30, is_fc=True, is_ft=False):\n",
        "  best_model_wts = copy.deepcopy(model.state_dict())\n",
        "  best_acc = 0.0\n",
        "\n",
        "  losses = {'train': [], 'val': []}\n",
        "  accuracy = {'train': [], 'val': []}\n",
        "  params = [model.hidden1_size, model.hidden2_size] if is_fc \\\n",
        "    else [model.kernel_size] if not is_ft else [optimizer.param_groups[0]['lr']]\n",
        "\n",
        "  for epoch in range(num_epochs):\n",
        "    print('Epoch {}/{}'.format(epoch + 1, num_epochs))\n",
        "    print('-' * 10)\n",
        "\n",
        "    # Each epoch has a training and validation phase\n",
        "    for phase in ['train', 'val']:\n",
        "      if phase == 'train':\n",
        "          model.train()  # Set model to training mode\n",
        "      else:\n",
        "          model.eval()   # Set model to evaluate mode\n",
        "\n",
        "      running_loss = 0.0\n",
        "      running_corrects = 0\n",
        "\n",
        "      for inputs, labels in dataloaders[phase]:\n",
        "        if is_fc:\n",
        "          inputs = inputs.view(inputs.shape[0], -1)\n",
        "        inputs = inputs.to(device)\n",
        "        labels = labels.to(device)\n",
        "\n",
        "        optimizer.zero_grad()\n",
        "\n",
        "        with torch.set_grad_enabled(phase == 'train'):\n",
        "          logits = model(inputs)    # forward pass\n",
        "          _, preds = torch.max(logits, 1)\n",
        "\n",
        "          loss = criterion(logits, labels)    # calculate loss\n",
        "\n",
        "          if phase == 'train':\n",
        "            loss.backward()   # backpropogation to compute the gradients\n",
        "            optimizer.step()  # updates the weights\n",
        "\n",
        "          # statistics\n",
        "        running_loss += loss.item() * inputs.size(0)\n",
        "        running_corrects += torch.sum(preds == labels.data)\n",
        "    \n",
        "      epoch_loss = running_loss / dataset_sizes[phase]\n",
        "      epoch_acc = running_corrects.double() / dataset_sizes[phase]\n",
        "\n",
        "      print('{} Loss: {:.4f} Acc: {:.4f}\\n'.format(\n",
        "          phase, epoch_loss, epoch_acc))\n",
        "        \n",
        "      if phase == 'val' and epoch_acc > best_acc:\n",
        "        best_acc = epoch_acc\n",
        "        best_model_wts = copy.deepcopy(model.state_dict())\n",
        "\n",
        "      losses[phase].append(epoch_loss)\n",
        "      accuracy[phase].append(epoch_acc.to('cpu'))\n",
        "  \n",
        "  model.load_state_dict(best_model_wts)\n",
        "  plot_stats(losses, num_epochs, f'Loss_{model_name}', params, is_fc=is_fc, \n",
        "             is_ft=is_ft)\n",
        "  plot_stats(accuracy, num_epochs, f\"Acc_{model_name}\", params, is_loss=False,\n",
        "             is_fc=is_fc, is_ft=is_ft)\n",
        "  return model, best_acc"
      ],
      "metadata": {
        "id": "PzX-5lGKNutK"
      },
      "execution_count": null,
      "outputs": []
    },
    {
      "cell_type": "code",
      "source": [
        "best_validation_acc = 0.0\n",
        "best_model_path = ''\n",
        "is_best_fc = True\n",
        "\n",
        "# Train FC network\n",
        "print('Train FC network with hidden layers of size 128, 64')\n",
        "print('-' * 10)\n",
        "\n",
        "fcNet = FC_Net()\n",
        "optimizer_fc = optim.Adam(fcNet.parameters(), lr=0.001)\n",
        "\n",
        "fcNet.to(device)\n",
        "\n",
        "fc_model_name = f'fc_{fcNet.hidden1_size}_{fcNet.hidden2_size}'\n",
        "fcNet, fc_best_val_acc = train_model(fcNet, nn.CrossEntropyLoss(), optimizer_fc, \n",
        "                                  dataloaders, fc_model_name)\n",
        "torch.save(fcNet.state_dict(), \n",
        "           models_base_path + f'{fc_model_name}.pth')\n",
        "\n",
        "if fc_best_val_acc > best_validation_acc:\n",
        "  best_validation_acc = fc_best_val_acc\n",
        "  is_best_fc = True\n",
        "  best_model_path = models_base_path + f'{fc_model_name}.pth'\n"
      ],
      "metadata": {
        "id": "QxCGwnvNI3p6",
        "colab": {
          "base_uri": "https://localhost:8080/"
        },
        "outputId": "6421ea3b-9262-4b88-acf4-597453746f69"
      },
      "execution_count": null,
      "outputs": [
        {
          "output_type": "stream",
          "name": "stdout",
          "text": [
            "Train FC network with hidden layers of size 128, 64\n",
            "----------\n",
            "Epoch 1/30\n",
            "----------\n",
            "train Loss: 2.1613 Acc: 0.2152\n",
            "\n",
            "val Loss: 2.0451 Acc: 0.2579\n",
            "\n",
            "Epoch 2/30\n",
            "----------\n",
            "train Loss: 1.9274 Acc: 0.3164\n",
            "\n",
            "val Loss: 1.7913 Acc: 0.3713\n",
            "\n",
            "Epoch 3/30\n",
            "----------\n",
            "train Loss: 1.7386 Acc: 0.3897\n",
            "\n",
            "val Loss: 1.6930 Acc: 0.4094\n",
            "\n",
            "Epoch 4/30\n",
            "----------\n",
            "train Loss: 1.6989 Acc: 0.4054\n",
            "\n",
            "val Loss: 1.6987 Acc: 0.4032\n",
            "\n",
            "Epoch 5/30\n",
            "----------\n",
            "train Loss: 1.6703 Acc: 0.4125\n",
            "\n",
            "val Loss: 1.6768 Acc: 0.4092\n",
            "\n",
            "Epoch 6/30\n",
            "----------\n",
            "train Loss: 1.6288 Acc: 0.4252\n",
            "\n",
            "val Loss: 1.5585 Acc: 0.4587\n",
            "\n",
            "Epoch 7/30\n",
            "----------\n",
            "train Loss: 1.4829 Acc: 0.4904\n",
            "\n",
            "val Loss: 1.4547 Acc: 0.5074\n",
            "\n",
            "Epoch 8/30\n",
            "----------\n",
            "train Loss: 1.4291 Acc: 0.5128\n",
            "\n",
            "val Loss: 1.4165 Acc: 0.5277\n",
            "\n",
            "Epoch 9/30\n",
            "----------\n",
            "train Loss: 1.4131 Acc: 0.5204\n",
            "\n",
            "val Loss: 1.3949 Acc: 0.5360\n",
            "\n",
            "Epoch 10/30\n",
            "----------\n",
            "train Loss: 1.3979 Acc: 0.5264\n",
            "\n",
            "val Loss: 1.3909 Acc: 0.5382\n",
            "\n",
            "Epoch 11/30\n",
            "----------\n",
            "train Loss: 1.3852 Acc: 0.5342\n",
            "\n",
            "val Loss: 1.3954 Acc: 0.5331\n",
            "\n",
            "Epoch 12/30\n",
            "----------\n",
            "train Loss: 1.3772 Acc: 0.5387\n",
            "\n",
            "val Loss: 1.3563 Acc: 0.5566\n",
            "\n",
            "Epoch 13/30\n",
            "----------\n"
          ]
        }
      ]
    },
    {
      "cell_type": "code",
      "source": [
        "# Train CNN\n",
        "print('Train CNN with kernel size 3')\n",
        "print('-' * 10)\n",
        "\n",
        "cnn = CNN()\n",
        "optimizer_cnn = optim.Adam(cnn.parameters(), lr=0.001)\n",
        "\n",
        "cnn.to(device)\n",
        "\n",
        "cnn_model_name = f'cnn_{cnn.kernel_size}'\n",
        "cnn, cnn_best_val_acc = train_model(cnn, nn.CrossEntropyLoss(), optimizer_cnn, \n",
        "                                    dataloaders, cnn_model_name,is_fc=False)\n",
        "torch.save(cnn.state_dict(), \n",
        "           models_base_path + f'{cnn_model_name}.pth')\n",
        "\n",
        "if cnn_best_val_acc > best_validation_acc:\n",
        "  best_validation_acc = cnn_best_val_acc\n",
        "  is_best_fc = False\n",
        "  best_model_path = models_base_path + f'{cnn_model_name}.pth'"
      ],
      "metadata": {
        "id": "C2MSVZ39r_Me"
      },
      "execution_count": null,
      "outputs": []
    },
    {
      "cell_type": "markdown",
      "source": [
        "# **Computer exercise 4 - Hyperparameters search**"
      ],
      "metadata": {
        "id": "AtaDPj-JiMKR"
      }
    },
    {
      "cell_type": "code",
      "source": [
        "# Comparing different hidden layer sizes for FC network\n",
        "\n",
        "fc_params = [[512, 256], [64, 32]]\n",
        "\n",
        "for hidden_sizes in fc_params:\n",
        "  print()\n",
        "  print(f'Train FC network with hidden layers of size \\\n",
        "    {hidden_sizes[0]}, {hidden_sizes[1]}')\n",
        "  print('-' * 10)\n",
        "\n",
        "  fcNet = FC_Net(hidden_sizes[0], hidden_sizes[1])\n",
        "  optimizer_fc = optim.Adam(fcNet.parameters(), lr=0.001)\n",
        "  fcNet.to(device)\n",
        "  fc_model_name = f'fc_{fcNet.hidden1_size}_{fcNet.hidden2_size}'\n",
        "  fcNet, curr_best_val_acc = train_model(fcNet, nn.CrossEntropyLoss(), \n",
        "                                         optimizer_fc, dataloaders, \n",
        "                                         fc_model_name)\n",
        "  \n",
        "  torch.save(fcNet.state_dict(), \n",
        "            models_base_path + f'{fc_model_name}.pth')\n",
        "  \n",
        "  if curr_best_val_acc > best_validation_acc:\n",
        "    best_validation_acc = curr_best_val_acc\n",
        "    is_best_fc = True\n",
        "    best_model_path = models_base_path + f'{fc_model_name}.pth'\n",
        "  \n",
        "# Comparing different kernel sizes for CNN\n",
        "cnn_kernel_sizes = [10, 1]\n",
        "for kernel_size in cnn_kernel_sizes:\n",
        "  print()\n",
        "  print(f'Train CNN with kernel size {kernel_size}')\n",
        "  print('-' * 10)\n",
        "\n",
        "  cnn = CNN(kernel_size)\n",
        "  optimizer_cnn = optim.Adam(cnn.parameters(), lr=0.001)\n",
        "  cnn.to(device)\n",
        "  cnn_model_name = f'cnn_{cnn.kernel_size}'\n",
        "  cnn, curr_best_val_acc = train_model(cnn, nn.CrossEntropyLoss(), \n",
        "                                       optimizer_cnn, dataloaders, \n",
        "                                       cnn_model_name,is_fc=False)\n",
        "  \n",
        "  torch.save(cnn.state_dict(), \n",
        "            models_base_path + f'{cnn_model_name}.pth')  \n",
        "\n",
        "  if curr_best_val_acc > best_validation_acc:\n",
        "    best_validation_acc = curr_best_val_acc\n",
        "    is_best_fc = False\n",
        "    best_model_path = models_base_path + f'{cnn_model_name}.pth'"
      ],
      "metadata": {
        "id": "K729WNHnicaJ"
      },
      "execution_count": null,
      "outputs": []
    },
    {
      "cell_type": "markdown",
      "source": [
        "## **Problem 1**"
      ],
      "metadata": {
        "id": "-ZRQ_jE9Xd2T"
      }
    },
    {
      "cell_type": "markdown",
      "source": [
        "The architecture which performed best in our experiment was the CNN with kernel size of 3.\n",
        "\n",
        "This architecture achived train loss of 0.2322 and train accuracy of 93.14%, and validation loss of 0.498 with validation accuracy of 87.61%.\n",
        "\n",
        "In terms of overfitting and based on the validation set, we can observe a minor overfitting as starting from epoch 5 we see the losses of the train and validation start to diverge, and reach a difference of about 0.25 between the train loss and the validation loss (train loss is lower). This indicates a small overfitting."
      ],
      "metadata": {
        "id": "vx8xVVGlXi-a"
      }
    },
    {
      "cell_type": "markdown",
      "source": [
        "# **Computer exercise 5 - Test best model**"
      ],
      "metadata": {
        "id": "7jaJH2RU273J"
      }
    },
    {
      "cell_type": "code",
      "source": [
        "def evaluate_model(model, dataloader, is_fc=True):\n",
        "  correct_count, all_count = 0, 0\n",
        "  with torch.no_grad():\n",
        "    for inputs, labels in dataloader:\n",
        "      if is_fc:\n",
        "        inputs = inputs.view(inputs.shape[0], -1)\n",
        "      inputs = inputs.to(device)\n",
        "      labels = labels.to(device)\n",
        "      outputs = model(inputs)\n",
        "      _, preds = torch.max(outputs, 1)\n",
        "      correct_pred = torch.eq(labels, preds).cpu()\n",
        "      correct_count += correct_pred.numpy().sum()\n",
        "      all_count += len(labels)\n",
        "  \n",
        "  print(f'Number of images tested: {all_count}')\n",
        "  print(f'\\nModel test accuracy: {correct_count / all_count}')"
      ],
      "metadata": {
        "id": "68NhcLnp3CKJ"
      },
      "execution_count": null,
      "outputs": []
    },
    {
      "cell_type": "code",
      "source": [
        "# Load best model parameters\n",
        "best_model = FC_Net() if is_best_fc else CNN()\n",
        "best_model.load_state_dict(torch.load(best_model_path))\n",
        "best_model.to(device)\n",
        "best_model_type = 'FC' if is_best_fc else 'CNN'\n",
        "best_model_params = f'with {best_model.hidden1_size}, {best_model.hidden2_size}'\\\n",
        " if is_best_fc else f'with kernel size {best_model.kernel_size}'\n",
        "print(f'\\nBest model is {best_model_type} {best_model_params}')\n",
        "print('Testing best model...\\n')\n",
        "evaluate_model(best_model, testloader, is_fc=is_best_fc)"
      ],
      "metadata": {
        "id": "3cJ62kyU6Wso"
      },
      "execution_count": null,
      "outputs": []
    },
    {
      "cell_type": "markdown",
      "source": [
        "## **Problem 2**"
      ],
      "metadata": {
        "id": "KJTcfB3loeMZ"
      }
    },
    {
      "cell_type": "markdown",
      "source": [
        "We can't guarantee that the model which performed best on the validation set will also be the model which performs best on the test set, as it depends on the similarity between the test and validation data sets in terms of the data set size, distribution and versatility (different kinds of examples).\n",
        "\n",
        "However, it is likely to perform similar to the way it performed on the validation set, assuming we divided our data in an appropriate way for training a model.\n",
        "\n",
        "The basic assumption we made using the validation set to choose the hyper-parameters was that the validation set is similar to the test set in terms of data distribution, thus the performence on the validation set will indicate how good our model generalizes the problem."
      ],
      "metadata": {
        "id": "Mssv4xNcog3n"
      }
    },
    {
      "cell_type": "markdown",
      "source": [
        "# **Computer exercise 6 - Tranfer learning**"
      ],
      "metadata": {
        "id": "Tjdn8Yojf2_P"
      }
    },
    {
      "cell_type": "markdown",
      "source": [
        "Fine tune ResNet-18:"
      ],
      "metadata": {
        "id": "iorKhZx6gAtK"
      }
    },
    {
      "cell_type": "code",
      "source": [
        "model_ft = models.resnet18(pretrained=True)\n",
        "num_ftrs = model_ft.fc.in_features\n",
        "model_ft.fc = nn.Linear(num_ftrs, 10)\n",
        "model_ft = model_ft.to(device)\n",
        "\n",
        "optimizer_ft = optim.Adam(model_ft.parameters(), lr=0.001)\n",
        "\n",
        "print('Finetuning ResNet-18 with lr=0.001')\n",
        "print('-' * 10)\n",
        "\n",
        "model_ft, _ = train_model(model_ft, nn.CrossEntropyLoss(), \n",
        "                       optimizer_ft, dataloaders,'resnet_18_ft_lr=0.001', \n",
        "                       is_fc=False, is_ft=True)\n",
        "\n",
        "torch.save(model_ft.state_dict(), models_base_path + 'resnet18_ft.pth')\n",
        "evaluate_model(model_ft, testloader, is_fc=False)"
      ],
      "metadata": {
        "id": "Cs5fYrctf8Z3"
      },
      "execution_count": null,
      "outputs": []
    },
    {
      "cell_type": "markdown",
      "source": [
        "## **Problem 3**"
      ],
      "metadata": {
        "id": "L2Ii4jXSqD8l"
      }
    },
    {
      "cell_type": "markdown",
      "source": [
        "We chose to finetune the ResNet, because we figured that the problem of classifying ImageNet dataset is a bit different from the problem which we try to solve, as detecting \"types\" (classes) of different objects is different from detecting a digit from a cropped street sign image. Thus, we thought it would be a better idea to train the model again to adapt it to our problem, while initializing the weights with the pretrained ResNet as it's well trained in extracting image features already."
      ],
      "metadata": {
        "id": "wkY4KOt1qIE7"
      }
    },
    {
      "cell_type": "markdown",
      "source": [
        "## **Problem 4**"
      ],
      "metadata": {
        "id": "k3L-cCOKruAJ"
      }
    },
    {
      "cell_type": "markdown",
      "source": [
        "The new finetuned ResNet network performs much better on the validation and test datasets.\n",
        "\n",
        "Validation accuracy:\n",
        "*   Our best model: 87.61%\n",
        "*   ResNet-18 finetuned: 92.93\n",
        "\n",
        "\n",
        "Test accuracy:\n",
        "*   Our best model: 86.17%\n",
        "*   ResNet-18 finetuned: 93.02%\n",
        "\n",
        "\n",
        "\n",
        "We believe it's due to the fact that we did 'smart initialization' of the model's weights and used a model which is already trained well on extracting image features and classifying objects. This fact, alongside the finetuning we did in the training process caused the model to perform better.\n",
        "\n",
        "One thing to note is that the training process took longer in the finetuned ResNet as the architecture of the network is more complex than the networks we've built."
      ],
      "metadata": {
        "id": "yhM8s3FKr9Ho"
      }
    },
    {
      "cell_type": "markdown",
      "source": [
        "## **Problem 5**"
      ],
      "metadata": {
        "id": "8hKKGSKOi_4X"
      }
    },
    {
      "cell_type": "code",
      "source": [
        "for lr in [0.1, 0.005, 0.0001]:\n",
        "  model_ft = models.resnet18(pretrained=True)\n",
        "  num_ftrs = model_ft.fc.in_features\n",
        "  model_ft.fc = nn.Linear(num_ftrs, 10)\n",
        "  model_ft = model_ft.to(device)\n",
        "  optimizer_ft = optim.Adam(model_ft.parameters(), lr=lr)\n",
        "  print()\n",
        "  print(f'Finetuning ResNet-18 with lr={lr}')\n",
        "  print('-' * 10)\n",
        "  model_ft = train_model(model_ft, nn.CrossEntropyLoss(), \n",
        "                       optimizer_ft, dataloaders, f'resnet_18_ft_lr={lr}', \n",
        "                       is_fc=False, is_ft=True)"
      ],
      "metadata": {
        "id": "9ho_UGYii76T"
      },
      "execution_count": null,
      "outputs": []
    },
    {
      "cell_type": "markdown",
      "source": [
        "We experimented with 3 other learning rates as can be seen above. The results were:\n",
        "\n",
        "\n",
        "*   For a large learning rate (`lr=1`), we see that the optimization process diverged and we got poor results. We assume this is due to the fact that the learning rate was too large.\n",
        "*   For a similar learning rate (although 5 times larger, `lr=0.005`), we observed similar results to the original learning rate (`lr=0.001`), so it seems like multiplying the learning rate didn't have much effect.\n",
        "*   For a small learning rate (`lr=0.0001`), we see a little bit less overfitting, but not so much that makes a difference in the results, as we still got about 92% validation accuracy.\n",
        "\n",
        "\n",
        "\n",
        "\n"
      ],
      "metadata": {
        "id": "VWBpLRHb_Dan"
      }
    }
  ]
}